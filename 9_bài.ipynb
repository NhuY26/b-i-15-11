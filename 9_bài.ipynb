{
  "nbformat": 4,
  "nbformat_minor": 0,
  "metadata": {
    "colab": {
      "name": "9-bài.ipynb",
      "provenance": [],
      "authorship_tag": "ABX9TyNz9R67xw9YxS+z0dDokFxX",
      "include_colab_link": true
    },
    "kernelspec": {
      "name": "python3",
      "display_name": "Python 3"
    },
    "language_info": {
      "name": "python"
    }
  },
  "cells": [
    {
      "cell_type": "markdown",
      "metadata": {
        "id": "view-in-github",
        "colab_type": "text"
      },
      "source": [
        "<a href=\"https://colab.research.google.com/github/NhuY26/b-i-15-11/blob/main/9_b%C3%A0i.ipynb\" target=\"_parent\"><img src=\"https://colab.research.google.com/assets/colab-badge.svg\" alt=\"Open In Colab\"/></a>"
      ]
    },
    {
      "cell_type": "code",
      "metadata": {
        "colab": {
          "base_uri": "https://localhost:8080/"
        },
        "id": "B_wR2oM_01Z2",
        "outputId": "7b0808bb-5cf3-4393-a0fb-4aa3b43b0307"
      },
      "source": [
        "#1\n",
        "list1 = [1, 2, 3, 4, 5, 6, 7 ]\n",
        "\n",
        "print(\"Tổng các phần tử trong list1: \", sum(list1))"
      ],
      "execution_count": 9,
      "outputs": [
        {
          "output_type": "stream",
          "name": "stdout",
          "text": [
            "Tổng các phần tử trong list1:  28\n"
          ]
        }
      ]
    },
    {
      "cell_type": "code",
      "metadata": {
        "colab": {
          "base_uri": "https://localhost:8080/"
        },
        "id": "qP6FPnGv1sSh",
        "outputId": "d1e74e13-576d-40d0-b9ca-cbe735f0c704"
      },
      "source": [
        "#2\n",
        "import numpy\n",
        "list1 = [1, 2, 3, 4, 5, 6, 7 ]\n",
        "\n",
        "print(\"Tích các phần tử trong list1: \", numpy.prod(list1))"
      ],
      "execution_count": 8,
      "outputs": [
        {
          "output_type": "stream",
          "name": "stdout",
          "text": [
            "Tích các phần tử trong list1:  5040\n"
          ]
        }
      ]
    },
    {
      "cell_type": "code",
      "metadata": {
        "colab": {
          "base_uri": "https://localhost:8080/"
        },
        "id": "uZ26z5kt1umc",
        "outputId": "701b4616-703f-44cd-cdda-7f83083c7aab"
      },
      "source": [
        "#3\n",
        "list1 = [1, 2, 3, 4, 5, 6, 7 ]\n",
        "\n",
        "print(\"Phần tử lớn nhất trong list1: \", max(list1))"
      ],
      "execution_count": 7,
      "outputs": [
        {
          "output_type": "stream",
          "name": "stdout",
          "text": [
            "Phần tử lớn nhất trong list1:  7\n"
          ]
        }
      ]
    },
    {
      "cell_type": "code",
      "metadata": {
        "colab": {
          "base_uri": "https://localhost:8080/"
        },
        "id": "Url5Y7uh1w3N",
        "outputId": "f7d2d14d-d4c2-49f8-fd0f-dc9dd3b47f44"
      },
      "source": [
        "#4\n",
        "list1 = [1, 2, 3, 4, 5, 6, 7 ]\n",
        "\n",
        "print(\"Phần tử nhỏ nhất trong list1: \", min(list1))"
      ],
      "execution_count": 6,
      "outputs": [
        {
          "output_type": "stream",
          "name": "stdout",
          "text": [
            "Phần tử nhỏ nhất trong list1:  1\n"
          ]
        }
      ]
    },
    {
      "cell_type": "code",
      "metadata": {
        "colab": {
          "base_uri": "https://localhost:8080/"
        },
        "id": "WDG9NMye1zpa",
        "outputId": "8460615d-5e47-4dc4-d275-a4611dc7bc87"
      },
      "source": [
        "#5\n",
        "list2 = [5, 6, 8, 3, 0, 8, 7, 4 ]\n",
        "\n",
        "list2.sort(reverse=False)\n",
        "\n",
        "print(\"Sắp sếp tăng dần: \", end = \"\")\n",
        "print(list2)"
      ],
      "execution_count": 5,
      "outputs": [
        {
          "output_type": "stream",
          "name": "stdout",
          "text": [
            "Sắp sếp tăng dần: [0, 3, 4, 5, 6, 7, 8, 8]\n"
          ]
        }
      ]
    },
    {
      "cell_type": "code",
      "metadata": {
        "colab": {
          "base_uri": "https://localhost:8080/"
        },
        "id": "WUWLiQVL18iI",
        "outputId": "66c2dd5a-6ce7-4ed6-d3bf-bb4041527085"
      },
      "source": [
        "#6\n",
        "list2 = [5, 6, 8, 3, 0, 8, 7, 4 ]\n",
        "\n",
        "list2.sort(reverse=True)\n",
        "\n",
        "print(\"Sắp sếp giảm dần: \", end = \"\")\n",
        "print(list2)"
      ],
      "execution_count": 4,
      "outputs": [
        {
          "output_type": "stream",
          "name": "stdout",
          "text": [
            "Sắp sếp giảm dần: [8, 8, 7, 6, 5, 4, 3, 0]\n"
          ]
        }
      ]
    },
    {
      "cell_type": "code",
      "metadata": {
        "colab": {
          "base_uri": "https://localhost:8080/"
        },
        "id": "YIg7Y-TV1_HO",
        "outputId": "2ee2b36e-4663-4ad6-a928-f095a034fdad"
      },
      "source": [
        "#7\n",
        "list2 = [5, 6, 8, 3, 0, 8, 7, 4 ]\n",
        "\n",
        "print(\"Kích thước list2: \", end = \"\")\n",
        "print(len(list2))"
      ],
      "execution_count": 3,
      "outputs": [
        {
          "output_type": "stream",
          "name": "stdout",
          "text": [
            "Kích thước list2: 8\n"
          ]
        }
      ]
    },
    {
      "cell_type": "code",
      "metadata": {
        "colab": {
          "base_uri": "https://localhost:8080/"
        },
        "id": "QRxeOvYJ2GDn",
        "outputId": "a2626db2-2687-41de-8782-f8825a573063"
      },
      "source": [
        "#8\n",
        "import random\n",
        "\n",
        "list2 = [5, 6, 8, 3, 0, 8, 7, 4 ]\n",
        "\n",
        "print(\"Lấy phần tử ngẫu nhiên trong list2:\", random.choice(list2))"
      ],
      "execution_count": 2,
      "outputs": [
        {
          "output_type": "stream",
          "name": "stdout",
          "text": [
            "Lấy phần tử ngẫu nhiên trong list2: 7\n"
          ]
        }
      ]
    },
    {
      "cell_type": "code",
      "metadata": {
        "colab": {
          "base_uri": "https://localhost:8080/"
        },
        "id": "QBRDWFAW2IJp",
        "outputId": "1308d525-d5de-4eef-9bdd-bc04de9aed0d"
      },
      "source": [
        "#9\n",
        "list1 = [1, 2, 3, 4, 5, 6, 7 ]\n",
        "list2 = [5, 6, 8, 3, 0, 8, 7, 4 ]\n",
        "\n",
        "print(\"list1 + list 2 = \", list1 + list2)"
      ],
      "execution_count": 1,
      "outputs": [
        {
          "output_type": "stream",
          "name": "stdout",
          "text": [
            "list1 + list 2 =  [1, 2, 3, 4, 5, 6, 7, 5, 6, 8, 3, 0, 8, 7, 4]\n"
          ]
        }
      ]
    }
  ]
}