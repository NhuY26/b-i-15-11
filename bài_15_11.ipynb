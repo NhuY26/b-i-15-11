{
  "nbformat": 4,
  "nbformat_minor": 0,
  "metadata": {
    "colab": {
      "name": "bài-15-11.ipynb",
      "provenance": [],
      "authorship_tag": "ABX9TyPhmAMtywTOt/u0IFNSI21u",
      "include_colab_link": true
    },
    "kernelspec": {
      "name": "python3",
      "display_name": "Python 3"
    },
    "language_info": {
      "name": "python"
    }
  },
  "cells": [
    {
      "cell_type": "markdown",
      "metadata": {
        "id": "view-in-github",
        "colab_type": "text"
      },
      "source": [
        "<a href=\"https://colab.research.google.com/github/NhuY26/b-i-15-11/blob/main/b%C3%A0i_15_11.ipynb\" target=\"_parent\"><img src=\"https://colab.research.google.com/assets/colab-badge.svg\" alt=\"Open In Colab\"/></a>"
      ]
    },
    {
      "cell_type": "code",
      "metadata": {
        "colab": {
          "base_uri": "https://localhost:8080/"
        },
        "id": "kUyk3ITbYGRP",
        "outputId": "f54db121-9528-48d5-894d-ddf2b4f7c975"
      },
      "source": [
        "#5 \n",
        "list1 = ['physics', 'chemistry', 1997, 2000]\n",
        "list2 = [1, 2, 3, 4, 5 ]\n",
        "list3 = [\"a\", \"b\", \"c\", \"d\"]\n",
        "print(list1, list2, list3)\n",
        "\n",
        "#6 \n",
        "list4 = ['physics', 'chemistry', 1997, 2000]\n",
        "list5 = [1, 2, 3, 4, 5, 6, 7 ]\n",
        "print(\"list1[0]: \", list1[0])\n",
        "print(\"list2[1:5]: \", list2[1:5])"
      ],
      "execution_count": null,
      "outputs": [
        {
          "output_type": "stream",
          "name": "stdout",
          "text": [
            "['physics', 'chemistry', 1997, 2000] [1, 2, 3, 4, 5] ['a', 'b', 'c', 'd']\n",
            "list1[0]:  physics\n",
            "list2[1:5]:  [2, 3, 4, 5]\n"
          ]
        }
      ]
    },
    {
      "cell_type": "code",
      "metadata": {
        "colab": {
          "base_uri": "https://localhost:8080/"
        },
        "id": "ZNPm8VghYfEC",
        "outputId": "b058e24c-7e99-4a7a-bf68-533d84622970"
      },
      "source": [
        "#7\n",
        "list2 = ['physics', 'chemistry', 1997, 2000]\n",
        "print(\"Value available at index 2 : \")\n",
        "print(list[2])\n",
        "list[2] = 2001\n",
        "print(\"New value available at index 2 : \")\n",
        "print(list[2])"
      ],
      "execution_count": null,
      "outputs": [
        {
          "output_type": "stream",
          "name": "stdout",
          "text": [
            "Value available at index 2 : \n",
            "2001\n",
            "New value available at index 2 : \n",
            "2001\n"
          ]
        }
      ]
    },
    {
      "cell_type": "code",
      "metadata": {
        "colab": {
          "base_uri": "https://localhost:8080/"
        },
        "id": "mHdZ8UxFYivF",
        "outputId": "d4fe9464-12a8-4314-e9d3-8cc01762fc47"
      },
      "source": [
        "#8 \n",
        "list6 = ['physics', 'chemistry', 1997, 2000]\n",
        "print(list6)\n",
        "del list6[2]\n",
        "print(\"After deleting value at index 2 : \")\n",
        "print(list6)"
      ],
      "execution_count": null,
      "outputs": [
        {
          "output_type": "stream",
          "name": "stdout",
          "text": [
            "['physics', 'chemistry', 1997, 2000]\n",
            "After deleting value at index 2 : \n",
            "['physics', 'chemistry', 2000]\n"
          ]
        }
      ]
    },
    {
      "cell_type": "code",
      "metadata": {
        "colab": {
          "base_uri": "https://localhost:8080/"
        },
        "id": "rVTL8sv0YmjD",
        "outputId": "2e4e00ab-8568-4196-ddc2-82bfcb229a53"
      },
      "source": [
        "#9 \n",
        "list7 = len([1, 2, 3])\n",
        "list8 = [1, 2, 3] + [4, 5, 6]\n",
        "list9 = ['Hi!'] * 3\n",
        "list10 = 3 in [1, 2, 3]\n",
        "print(list7, '\\n', list8, '\\n', list9, '\\n', list10)"
      ],
      "execution_count": null,
      "outputs": [
        {
          "output_type": "stream",
          "name": "stdout",
          "text": [
            "3 \n",
            " [1, 2, 3, 4, 5, 6] \n",
            " ['Hi!', 'Hi!', 'Hi!'] \n",
            " True\n"
          ]
        }
      ]
    },
    {
      "cell_type": "code",
      "metadata": {
        "colab": {
          "base_uri": "https://localhost:8080/"
        },
        "id": "ECumTspTYo-H",
        "outputId": "6319831d-f4a2-427c-ced0-e75a7eb7361d"
      },
      "source": [
        "#10 \n",
        "L = ['red', 'yellow', 'green']\n",
        "print(L[2], '\\n', L[-2], '\\n', L[1:])\n",
        "\n",
        "#11\n",
        "import math\n",
        "list11 = [1, 2, 3, 4, 5]\n",
        "print(len(list11), '\\n', max(list11), '\\n', min(list11))"
      ],
      "execution_count": null,
      "outputs": [
        {
          "output_type": "stream",
          "name": "stdout",
          "text": [
            "green \n",
            " yellow \n",
            " ['yellow', 'green']\n",
            "5 \n",
            " 5 \n",
            " 1\n"
          ]
        }
      ]
    },
    {
      "cell_type": "code",
      "metadata": {
        "colab": {
          "base_uri": "https://localhost:8080/"
        },
        "id": "RK0KIdiuYvbI",
        "outputId": "c24908fc-d71e-4808-9a18-bd4bf26e0d63"
      },
      "source": [
        "#12\n",
        "list11.append('so')\n",
        "print(list11)\n",
        "list11.count('so')\n",
        "print(list11)\n",
        "list11.extend('9')\n",
        "print(list11)\n",
        "list11.index('so')"
      ],
      "execution_count": null,
      "outputs": [
        {
          "output_type": "stream",
          "name": "stdout",
          "text": [
            "[1, 2, 3, 4, 5, 'so', 'so', 'so', 'so', 'so', 'so', 'so', 'so']\n",
            "[1, 2, 3, 4, 5, 'so', 'so', 'so', 'so', 'so', 'so', 'so', 'so']\n",
            "[1, 2, 3, 4, 5, 'so', 'so', 'so', 'so', 'so', 'so', 'so', 'so', '9']\n"
          ]
        },
        {
          "output_type": "execute_result",
          "data": {
            "text/plain": [
              "5"
            ]
          },
          "metadata": {},
          "execution_count": 17
        }
      ]
    }
  ]
}