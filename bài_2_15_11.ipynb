{
  "nbformat": 4,
  "nbformat_minor": 0,
  "metadata": {
    "colab": {
      "name": "bài-2-15-11.ipynb",
      "provenance": [],
      "authorship_tag": "ABX9TyM+DUWy9MrnhSx3mRlIpumr",
      "include_colab_link": true
    },
    "kernelspec": {
      "name": "python3",
      "display_name": "Python 3"
    },
    "language_info": {
      "name": "python"
    }
  },
  "cells": [
    {
      "cell_type": "markdown",
      "metadata": {
        "id": "view-in-github",
        "colab_type": "text"
      },
      "source": [
        "<a href=\"https://colab.research.google.com/github/NhuY26/b-i-15-11/blob/main/b%C3%A0i_2_15_11.ipynb\" target=\"_parent\"><img src=\"https://colab.research.google.com/assets/colab-badge.svg\" alt=\"Open In Colab\"/></a>"
      ]
    },
    {
      "cell_type": "code",
      "metadata": {
        "colab": {
          "base_uri": "https://localhost:8080/"
        },
        "id": "oQ9G3PVtcxMR",
        "outputId": "cc40107f-f704-4d46-d7d8-c7aefbc19658"
      },
      "source": [
        "#15\n",
        "tup1 = ('physics', 'chemistry', 1997, 2000)\n",
        "tup2 = (1, 2, 3, 4, 5)\n",
        "print(\"tup1[0]: \", tup1[0])\n",
        "print(\"tup2[1:5]: \", tup2[1:5])\n"
      ],
      "execution_count": 5,
      "outputs": [
        {
          "output_type": "stream",
          "name": "stdout",
          "text": [
            "tup1[0]:  physics\n",
            "tup2[1:5]:  (2, 3, 4, 5)\n"
          ]
        }
      ]
    },
    {
      "cell_type": "code",
      "metadata": {
        "colab": {
          "base_uri": "https://localhost:8080/"
        },
        "id": "gij8_y5WgnPa",
        "outputId": "42e85a46-604f-4a80-fbe0-4a3edb5b54e6"
      },
      "source": [
        "#16\n",
        "tup1 = (12, 34.56)\n",
        "tup2 = ('abc', 'xyz')\n",
        "tup3= tup1 + tup2\n",
        "print(tup3)"
      ],
      "execution_count": 6,
      "outputs": [
        {
          "output_type": "stream",
          "name": "stdout",
          "text": [
            "(12, 34.56, 'abc', 'xyz')\n"
          ]
        }
      ]
    },
    {
      "cell_type": "code",
      "metadata": {
        "colab": {
          "base_uri": "https://localhost:8080/",
          "height": 235
        },
        "id": "5uqrSqMshXMm",
        "outputId": "a63657e6-59b7-4198-dbf8-aaecd051853c"
      },
      "source": [
        "#17\n",
        "tup1 = ('physics', 'chemistry', 1997, 2000)\n",
        "print(tup1)\n",
        "del(tup1)\n",
        "print (\"after deleting tup1 : \")\n",
        "print(tup1)"
      ],
      "execution_count": 11,
      "outputs": [
        {
          "output_type": "stream",
          "name": "stdout",
          "text": [
            "('physics', 'chemistry', 1997, 2000)\n",
            "after deleting tup1 : \n"
          ]
        },
        {
          "output_type": "error",
          "ename": "NameError",
          "evalue": "ignored",
          "traceback": [
            "\u001b[0;31m---------------------------------------------------------------------------\u001b[0m",
            "\u001b[0;31mNameError\u001b[0m                                 Traceback (most recent call last)",
            "\u001b[0;32m<ipython-input-11-254d3d2bcec1>\u001b[0m in \u001b[0;36m<module>\u001b[0;34m()\u001b[0m\n\u001b[1;32m      4\u001b[0m \u001b[0;32mdel\u001b[0m\u001b[0;34m(\u001b[0m\u001b[0mtup1\u001b[0m\u001b[0;34m)\u001b[0m\u001b[0;34m\u001b[0m\u001b[0;34m\u001b[0m\u001b[0m\n\u001b[1;32m      5\u001b[0m \u001b[0mprint\u001b[0m \u001b[0;34m(\u001b[0m\u001b[0;34m\"after deleting tup1 : \"\u001b[0m\u001b[0;34m)\u001b[0m\u001b[0;34m\u001b[0m\u001b[0;34m\u001b[0m\u001b[0m\n\u001b[0;32m----> 6\u001b[0;31m \u001b[0mprint\u001b[0m\u001b[0;34m(\u001b[0m\u001b[0mtup1\u001b[0m\u001b[0;34m)\u001b[0m\u001b[0;34m\u001b[0m\u001b[0;34m\u001b[0m\u001b[0m\n\u001b[0m",
            "\u001b[0;31mNameError\u001b[0m: name 'tup1' is not defined"
          ]
        }
      ]
    },
    {
      "cell_type": "code",
      "metadata": {
        "colab": {
          "base_uri": "https://localhost:8080/"
        },
        "id": "R9dG--0YilCu",
        "outputId": "085b5099-811d-475a-bda1-0734b5e49bf6"
      },
      "source": [
        "#20\n",
        "T = ['red', 'yellow', 'green']\n",
        "print(T[2],   T[-2],   T[1:])"
      ],
      "execution_count": 17,
      "outputs": [
        {
          "output_type": "stream",
          "name": "stdout",
          "text": [
            "green yellow ['yellow', 'green']\n"
          ]
        }
      ]
    },
    {
      "cell_type": "code",
      "metadata": {
        "colab": {
          "base_uri": "https://localhost:8080/"
        },
        "id": "ZlbepmaljlC5",
        "outputId": "34607c75-2451-45d9-d299-2afe68c00687"
      },
      "source": [
        "#21\n",
        "print(len((1, 2, 3)))\n",
        "\n",
        "print((1, 2, 3) + (4, 5, 6))\n",
        "\n",
        "print(('Hi!') * 3)\n",
        "\n",
        "print(3 in (1, 2, 3))\n",
        "\n",
        "for x in (1, 2, 3): print(x)"
      ],
      "execution_count": 21,
      "outputs": [
        {
          "output_type": "stream",
          "name": "stdout",
          "text": [
            "3\n",
            "(1, 2, 3, 4, 5, 6)\n",
            "Hi!Hi!Hi!\n",
            "True\n",
            "1\n",
            "2\n",
            "3\n"
          ]
        }
      ]
    },
    {
      "cell_type": "code",
      "metadata": {
        "colab": {
          "base_uri": "https://localhost:8080/"
        },
        "id": "GmN4KhlJlpOu",
        "outputId": "506476d7-e9fb-4a4e-9412-550707b28d53"
      },
      "source": [
        "#24\n",
        "dict1 = {'name': 'Zara', 'age': 7, 'class': 'first'}\n",
        "print(\"dict['name']: \", dict1['name'])\n",
        "print(\"dict['age']: \", dict1['age'])"
      ],
      "execution_count": 43,
      "outputs": [
        {
          "output_type": "stream",
          "name": "stdout",
          "text": [
            "dict['name']:  Zara\n",
            "dict['age']:  7\n"
          ]
        }
      ]
    },
    {
      "cell_type": "code",
      "metadata": {
        "colab": {
          "base_uri": "https://localhost:8080/"
        },
        "id": "8JGT1mmTmRWA",
        "outputId": "1ecde39c-2766-4e27-9d3a-502396a468b5"
      },
      "source": [
        "#25\n",
        "dict1 = {'Name': 'Zara', 'Age': 7, 'Class': 'First'}\n",
        "dict1['Age'] = 8; # update existing entry\n",
        "dict1['School'] = \"DPS School\"; # Add new entry\n",
        "print(\"dict['Age']: \", dict1['Age'])\n",
        "print(\"dict['School']: \", dict1['School'])"
      ],
      "execution_count": 45,
      "outputs": [
        {
          "output_type": "stream",
          "name": "stdout",
          "text": [
            "dict['Age']:  8\n",
            "dict['School']:  DPS School\n"
          ]
        }
      ]
    },
    {
      "cell_type": "code",
      "metadata": {
        "id": "L7LgANlFmW2Q"
      },
      "source": [
        "#26\n",
        "dict2 = {'Name': 'Zara', 'Age': 7, 'Class': 'First'}\n",
        "del dict2['Name'] \n",
        "dict2.clear() \n",
        "del dict2 "
      ],
      "execution_count": 44,
      "outputs": []
    },
    {
      "cell_type": "code",
      "metadata": {
        "colab": {
          "base_uri": "https://localhost:8080/"
        },
        "id": "w3q8qlfUp824",
        "outputId": "15d464ca-6973-422c-c6fb-23f7948e72ea"
      },
      "source": [
        "#28\n",
        "\n",
        "d1 = {'Name': 'Zara', 'Age': 7, 'Class': 'First'}\n",
        "\n",
        "print(\"Before clear: \", d1)\n",
        "\n",
        "d2 = d1.copy()\n",
        "\n",
        "d1.clear()\n",
        "\n",
        "print(\"After clear: \", d1)\n",
        "\n",
        "print(\"d2 : \", d2)\n",
        "\n",
        "print(\"Name: \",d2.get(\"Name\"))\n",
        "\n",
        "print(d2.items())\n",
        "\n",
        "print(d2.keys())\n",
        "\n",
        "d1.update(d2)\n",
        "\n",
        "print(d1.values())\n",
        "\n",
        "print(\"After update d2: \", d1)"
      ],
      "execution_count": 42,
      "outputs": [
        {
          "output_type": "stream",
          "name": "stdout",
          "text": [
            "Before clear:  {'Name': 'Zara', 'Age': 7, 'Class': 'First'}\n",
            "After clear:  {}\n",
            "d2 :  {'Name': 'Zara', 'Age': 7, 'Class': 'First'}\n",
            "Name:  Zara\n",
            "dict_items([('Name', 'Zara'), ('Age', 7), ('Class', 'First')])\n",
            "dict_keys(['Name', 'Age', 'Class'])\n",
            "dict_values(['Zara', 7, 'First'])\n",
            "After update d2:  {'Name': 'Zara', 'Age': 7, 'Class': 'First'}\n"
          ]
        }
      ]
    },
    {
      "cell_type": "code",
      "metadata": {
        "colab": {
          "base_uri": "https://localhost:8080/"
        },
        "id": "pxI023G3n_JH",
        "outputId": "a093f73b-5d40-4588-8d24-e9c8e423931e"
      },
      "source": [
        "#31\n",
        "# Same as {\"a\", \"b\", \"c\"}\n",
        "Set = set([\"a\", \"b\", \"c\"])\n",
        "print(\"Set: \")\n",
        "print(Set)\n",
        "# Adding element to the set\n",
        "Set.add(\"d\")\n",
        "print(\"\\nSet after adding: \")\n",
        "print(Set)"
      ],
      "execution_count": 49,
      "outputs": [
        {
          "output_type": "stream",
          "name": "stdout",
          "text": [
            "Set: \n",
            "{'a', 'c', 'b'}\n",
            "\n",
            "Set after adding: \n",
            "{'a', 'd', 'c', 'b'}\n"
          ]
        }
      ]
    },
    {
      "cell_type": "code",
      "metadata": {
        "colab": {
          "base_uri": "https://localhost:8080/"
        },
        "id": "PvLPmzB-oOxb",
        "outputId": "deba9ec9-c903-4077-886f-5a35fe8f1e52"
      },
      "source": [
        "#32\n",
        "people = {\"Jay\", \"Idrish\", \"Archi\"}\n",
        "print(\"People: \")\n",
        "print(people)\n",
        "people.add(\"Daxit\")\n",
        "for i in range(1, 6):\n",
        "  people.add(i)\n",
        "print(\"\\nSet after adding element:\", end = \" \")\n",
        "print(people)"
      ],
      "execution_count": 33,
      "outputs": [
        {
          "output_type": "stream",
          "name": "stdout",
          "text": [
            "People: \n",
            "{'Idrish', 'Jay', 'Archi'}\n",
            "\n",
            "Set after adding element: {'Idrish', 1, 2, 3, 4, 5, 'Jay', 'Archi', 'Daxit'}\n"
          ]
        }
      ]
    },
    {
      "cell_type": "code",
      "metadata": {
        "colab": {
          "base_uri": "https://localhost:8080/"
        },
        "id": "sCM3sPyooUDy",
        "outputId": "17f63936-be08-472c-8145-1bb67aef694b"
      },
      "source": [
        "#33\n",
        "Days=set([\"Mon\",\"Tue\",\"Wed\",\"Thu\",\"Fri\",\"Sat\"])\n",
        "Days.discard(\"Sun\")\n",
        "print(Days)"
      ],
      "execution_count": 34,
      "outputs": [
        {
          "output_type": "stream",
          "name": "stdout",
          "text": [
            "{'Fri', 'Sat', 'Thu', 'Wed', 'Mon', 'Tue'}\n"
          ]
        }
      ]
    },
    {
      "cell_type": "code",
      "metadata": {
        "colab": {
          "base_uri": "https://localhost:8080/"
        },
        "id": "8MhiXuz0oaza",
        "outputId": "37b08baf-7356-47de-edf5-8f996127fdf0"
      },
      "source": [
        "#34\n",
        "set1 = {1,2,3,4,5,6}\n",
        "print(\"Initial set\")\n",
        "print(set1)\n",
        "# This method will remove\n",
        "# all the elements of the set\n",
        "set1.clear()\n",
        "print(\"\\nSet after using clear() function\")\n",
        "print(set1)"
      ],
      "execution_count": 35,
      "outputs": [
        {
          "output_type": "stream",
          "name": "stdout",
          "text": [
            "Initial set\n",
            "{1, 2, 3, 4, 5, 6}\n",
            "\n",
            "Set after using clear() function\n",
            "set()\n"
          ]
        }
      ]
    },
    {
      "cell_type": "code",
      "metadata": {
        "colab": {
          "base_uri": "https://localhost:8080/"
        },
        "id": "UI8hPdeKohGA",
        "outputId": "4d568135-213e-4208-81d0-342d79c60b61"
      },
      "source": [
        "#37\n",
        "set1 = set()\n",
        "for i in range(5):\n",
        "  set1.add(i)\n",
        "set2 = {3, 4, 5, 6, 7, 8}\n",
        "# Intersection using intersection() function\n",
        "set3 = set1.intersection(set2)\n",
        "print(\"Intersection using intersection() function\")\n",
        "print(set3)\n",
        "# Intersection using \"&\" operator\n",
        "set3 = set1 & set2\n",
        "print(\"\\nIntersection using '&' operator\")\n",
        "print(set3)"
      ],
      "execution_count": 37,
      "outputs": [
        {
          "output_type": "stream",
          "name": "stdout",
          "text": [
            "Intersection using intersection() function\n",
            "{3, 4}\n",
            "\n",
            "Intersection using '&' operator\n",
            "{3, 4}\n"
          ]
        }
      ]
    },
    {
      "cell_type": "code",
      "metadata": {
        "colab": {
          "base_uri": "https://localhost:8080/"
        },
        "id": "-CFP9J_Too_z",
        "outputId": "88a650fd-024a-474b-f49a-d3445b33e921"
      },
      "source": [
        "#38\n",
        "DaysA = set([\"Mon\",\"Tue\",\"Wed\"])\n",
        "DaysB = set([\"Mon\",\"Tue\",\"Wed\",\"Thu\",\"Fri\",\"Sat\",\"Sun\"])\n",
        "SubsetRes = DaysA <= DaysB\n",
        "SupersetRes = DaysB >= DaysA\n",
        "print(SubsetRes)\n",
        "print(SupersetRes)"
      ],
      "execution_count": 38,
      "outputs": [
        {
          "output_type": "stream",
          "name": "stdout",
          "text": [
            "True\n",
            "True\n"
          ]
        }
      ]
    },
    {
      "cell_type": "code",
      "metadata": {
        "colab": {
          "base_uri": "https://localhost:8080/"
        },
        "id": "2Zsmr4xSoyBt",
        "outputId": "4d50ff1a-dfb1-4163-b98f-8282c5891ab6"
      },
      "source": [
        "#41\n",
        "import time; # This is required to include time module.\n",
        "ticks = time.time()\n",
        "print(\"Number of ticks since 12:00am, January 1, 1970:\", ticks)\n",
        "#Number of ticks since 12:00am, January 1, 1970: 7186862.73399\n",
        "localtime = time.localtime(time.time())\n",
        "print(\"Local current time :\", localtime)"
      ],
      "execution_count": 39,
      "outputs": [
        {
          "output_type": "stream",
          "name": "stdout",
          "text": [
            "Number of ticks since 12:00am, January 1, 1970: 1636963678.5539842\n",
            "Local current time : time.struct_time(tm_year=2021, tm_mon=11, tm_mday=15, tm_hour=8, tm_min=7, tm_sec=58, tm_wday=0, tm_yday=319, tm_isdst=0)\n"
          ]
        }
      ]
    },
    {
      "cell_type": "code",
      "metadata": {
        "colab": {
          "base_uri": "https://localhost:8080/"
        },
        "id": "WcOz3xvoo4Wl",
        "outputId": "d278c6a9-77bd-4647-9162-cb9720ee8a69"
      },
      "source": [
        "#42\n",
        "import time;\n",
        "localtime = time.asctime( time.localtime(time.time()) )\n",
        "print(\"Local current time :\", localtime)"
      ],
      "execution_count": 40,
      "outputs": [
        {
          "output_type": "stream",
          "name": "stdout",
          "text": [
            "Local current time : Mon Nov 15 08:08:17 2021\n"
          ]
        }
      ]
    },
    {
      "cell_type": "code",
      "metadata": {
        "colab": {
          "base_uri": "https://localhost:8080/"
        },
        "id": "vJeCWvFMo9Go",
        "outputId": "c6ca9237-c0d0-4153-c9d2-3901d79a3ca9"
      },
      "source": [
        "#43\n",
        "import calendar\n",
        "cal = calendar.month(2008, 1)\n",
        "print(\"Here is the calendar:\")\n",
        "print(cal)"
      ],
      "execution_count": 41,
      "outputs": [
        {
          "output_type": "stream",
          "name": "stdout",
          "text": [
            "Here is the calendar:\n",
            "    January 2008\n",
            "Mo Tu We Th Fr Sa Su\n",
            "    1  2  3  4  5  6\n",
            " 7  8  9 10 11 12 13\n",
            "14 15 16 17 18 19 20\n",
            "21 22 23 24 25 26 27\n",
            "28 29 30 31\n",
            "\n"
          ]
        }
      ]
    }
  ]
}